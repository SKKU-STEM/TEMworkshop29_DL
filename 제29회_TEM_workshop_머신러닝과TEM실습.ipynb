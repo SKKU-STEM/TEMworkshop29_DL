{
 "cells": [
  {
   "cell_type": "code",
   "execution_count": null,
   "metadata": {
    "colab": {
     "base_uri": "https://localhost:8080/"
    },
    "id": "zewpoqbXiFVv",
    "outputId": "26b45b12-6161-4cd9-b49b-2ad8b44c2e3a"
   },
   "outputs": [],
   "source": [
    "!git clone https://github.com/SKKU-STEM/TEMworkshop29_DL"
   ]
  },
  {
   "cell_type": "code",
   "execution_count": null,
   "metadata": {
    "id": "hMnuI27-iERp"
   },
   "outputs": [],
   "source": [
    "import os\n",
    "import torch\n",
    "import torch.nn as nn\n",
    "import torch.optim as optim\n",
    "from utils import *"
   ]
  },
  {
   "cell_type": "code",
   "execution_count": null,
   "metadata": {
    "colab": {
     "base_uri": "https://localhost:8080/",
     "height": 407
    },
    "id": "w5bKUHkQiERr",
    "outputId": "90e24e97-a332-4134-a91a-f6d950a2d2c9"
   },
   "outputs": [],
   "source": [
    "## 데이터셋 구성 ##\n",
    "\n",
    "dataset_dir = \"train_dataset\"\n",
    "label_list = [\"W\", \"V_W\", \"Se2\", \"Vac_Se\", \"Vac_Se2\"]\n",
    "\n",
    "show_dataset(dataset_dir = dataset_dir, \n",
    "             label_list = label_list, \n",
    "             show_img_num = 10)"
   ]
  },
  {
   "cell_type": "code",
   "execution_count": null,
   "metadata": {},
   "outputs": [],
   "source": [
    "## 데이터로더 구성 ##\n",
    "\n",
    "train_valid_ratio = (8, 2)\n",
    "batch_size = 32\n",
    "\n",
    "train_dataloader, valid_dataloader = get_dataloader(dataset_dir = dataset_dir, \n",
    "                                                    label_list = label_list,\n",
    "                                                    train_valid_ratio = train_valid_ratio, \n",
    "                                                    batch_size = batch_size)"
   ]
  },
  {
   "cell_type": "code",
   "execution_count": null,
   "metadata": {},
   "outputs": [],
   "source": [
    "## 딥러닝 모델 구성 ##\n",
    "\n",
    "img_channels = 1\n",
    "conv_num_features1 = 32\n",
    "conv_num_features2 = 64\n",
    "conv_num_features3 = 128\n",
    "fc_num_features = 64\n",
    "\n",
    "model = MODEL(img_channels, \n",
    "              conv_num_features1, \n",
    "              conv_num_features2, \n",
    "              conv_num_features3,\n",
    "              fc_num_features, \n",
    "              label_list)"
   ]
  },
  {
   "cell_type": "code",
   "execution_count": null,
   "metadata": {},
   "outputs": [],
   "source": [
    "## 학습 hyper-parameter 설정 ##\n",
    "\n",
    "loss_function = nn.CrossEntropyLoss()\n",
    "\n",
    "learning_rate = 0.005\n",
    "optimizer = optim.SGD(params = model.parameters(), \n",
    "                      lr = learning_rate)\n",
    "\n",
    "device = \"cuda\"\n",
    "device = torch.device(device if torch.cuda.is_available() else \"cpu\")"
   ]
  },
  {
   "cell_type": "code",
   "execution_count": null,
   "metadata": {
    "colab": {
     "base_uri": "https://localhost:8080/"
    },
    "id": "Z5DGIKuqiERs",
    "outputId": "48ebc8cb-c1cf-473c-a434-fe1691fc91b1"
   },
   "outputs": [],
   "source": [
    "## 학습 진행 ##\n",
    "\n",
    "EPOCH = 200\n",
    "\n",
    "training_log = []\n",
    "for epoch in range(1, EPOCH + 1):\n",
    "    print(f\"EPOCH : {epoch}\")\n",
    "    train_loss, train_acc, valid_loss, valid_acc = train(model = model, \n",
    "                                                         train_dataloader = train_dataloader, \n",
    "                                                         valid_dataloader = valid_dataloader, \n",
    "                                                         loss_function = loss_function, \n",
    "                                                         optimizer = optimizer, \n",
    "                                                         device = device)\n",
    "    training_log.append([epoch, train_loss, train_acc, valid_loss, valid_acc])\n",
    "\n",
    "show_train_graph(training_log)"
   ]
  },
  {
   "cell_type": "code",
   "execution_count": null,
   "metadata": {},
   "outputs": [],
   "source": [
    "## 테스트 진행 ##\n",
    "\n",
    "test_data_dir = \"test_dataset/input/simulation0.tif\"\n",
    "\n",
    "test_result, mapping_result = test(test_data_dir = test_data_dir, \n",
    "                                   model = model, \n",
    "                                   device = device, \n",
    "                                   show_result = True,\n",
    "                                   save_mapping_result = True\n",
    "                                   )"
   ]
  },
  {
   "cell_type": "code",
   "execution_count": null,
   "metadata": {},
   "outputs": [],
   "source": [
    "## Confusion matrix 확인 ##\n",
    "\n",
    "confusion_mat = evaluation(test_data_dir = test_data_dir, \n",
    "                           test_result = test_result)\n",
    "print(confusion_mat)"
   ]
  },
  {
   "cell_type": "code",
   "execution_count": null,
   "metadata": {},
   "outputs": [],
   "source": [
    "## Metric 계산 ##\n",
    "\n",
    "score_result = calculate_score(confusion_mat)"
   ]
  },
  {
   "cell_type": "code",
   "execution_count": null,
   "metadata": {},
   "outputs": [],
   "source": [
    "## 테스트 데이터를 활용한 전체 confusion matrix 확인 ##\n",
    "\n",
    "test_data_src_dir = \"test_dataset/input\"\n",
    "\n",
    "test_data_list = os.listdir(test_data_src_dir)\n",
    "\n",
    "total_confusion_mat = np.zeros((5, 5))\n",
    "for test_data_dir in test_data_list:\n",
    "    test_data_dir = f\"{test_data_src_dir}/{test_data_dir}\"\n",
    "    test_result, mapping_result = test(test_data_dir = test_data_dir, \n",
    "                                       model = model, \n",
    "                                       device = device, \n",
    "                                       show_result = False,\n",
    "                                       save_mapping_result = True)\n",
    "    confusion_mat = evaluation(test_data_dir = test_data_dir, \n",
    "                               test_result = test_result)\n",
    "    total_confusion_mat += confusion_mat\n",
    "\n",
    "print(total_confusion_mat.astype(np.int32))"
   ]
  },
  {
   "cell_type": "code",
   "execution_count": null,
   "metadata": {},
   "outputs": [],
   "source": [
    "## 테스트 데이터를 활용한 전체 metric 계산 ##\n",
    "\n",
    "total_score_result = calculate_score(total_confusion_mat)"
   ]
  },
  {
   "cell_type": "code",
   "execution_count": null,
   "metadata": {},
   "outputs": [],
   "source": [
    "## 실제 데이터 테스트 ##\n",
    "\n",
    "test_data_dir = \"test_data/20MX 80kV Image1 7792.tif\"\n",
    "test_result, mapping_result = test(test_data_dir = test_data_dir, \n",
    "                                   model = model, \n",
    "                                   device = device, \n",
    "                                   show_result = True,\n",
    "                                   save_mapping_result = False)"
   ]
  },
  {
   "cell_type": "code",
   "execution_count": null,
   "metadata": {},
   "outputs": [],
   "source": [
    "## 실제 데이터 테스트 및 결과 도출 ##\n",
    "\n",
    "test_data_src_dir = \"test_data\"\n",
    "\n",
    "test_data_list = os.listdir(test_data_src_dir)\n",
    "\n",
    "result_df = get_result_df()\n",
    "for test_data_dir in test_data_list:\n",
    "    test_data_dir = f\"{test_data_src_dir}/{test_data_dir}\"\n",
    "    test_result, mapping_result = test(test_data_dir = test_data_dir, \n",
    "                                       model = model, \n",
    "                                       device = device, \n",
    "                                       show_result = True,\n",
    "                                       save_mapping_result = True)\n",
    "    result_df = update_result_df(result_df = result_df, \n",
    "                                 test_data_dir = test_data_dir, \n",
    "                                 test_result = test_result)\n",
    "    \n",
    "result_df.to_csv(\"result_df.csv\")"
   ]
  },
  {
   "cell_type": "code",
   "execution_count": null,
   "metadata": {},
   "outputs": [],
   "source": []
  },
  {
   "cell_type": "code",
   "execution_count": null,
   "metadata": {},
   "outputs": [],
   "source": []
  }
 ],
 "metadata": {
  "accelerator": "GPU",
  "colab": {
   "gpuType": "T4",
   "provenance": []
  },
  "kernelspec": {
   "display_name": "Python 3 (ipykernel)",
   "language": "python",
   "name": "python3"
  },
  "language_info": {
   "codemirror_mode": {
    "name": "ipython",
    "version": 3
   },
   "file_extension": ".py",
   "mimetype": "text/x-python",
   "name": "python",
   "nbconvert_exporter": "python",
   "pygments_lexer": "ipython3",
   "version": "3.8.8"
  },
  "vscode": {
   "interpreter": {
    "hash": "f08154012ddadd8e950e6e9e035c7a7b32c136e7647e9b7c77e02eb723a8bedb"
   }
  }
 },
 "nbformat": 4,
 "nbformat_minor": 4
}
